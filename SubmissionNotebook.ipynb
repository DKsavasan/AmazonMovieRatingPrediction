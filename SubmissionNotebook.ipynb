{
 "cells": [
  {
   "cell_type": "markdown",
   "metadata": {},
   "source": [
    "## Exploration"
   ]
  },
  {
   "cell_type": "code",
   "execution_count": 1,
   "metadata": {},
   "outputs": [],
   "source": [
    "import pandas as pd\n",
    "import numpy as np\n",
    "import matplotlib.pyplot as plt\n",
    "from sklearn.linear_model import LogisticRegression, RidgeClassifier\n",
    "from sklearn.naive_bayes import GaussianNB\n",
    "from sklearn.pipeline import make_pipeline\n",
    "from sklearn.decomposition import PCA\n",
    "from sklearn.datasets import fetch_lfw_people\n",
    "from sklearn.ensemble import BaggingClassifier\n",
    "from sklearn.model_selection import GridSearchCV, train_test_split\n",
    "from sklearn.feature_extraction.text import CountVectorizer, TfidfVectorizer\n",
    "import pickle\n",
    "import seaborn as sns\n",
    "from sklearn.metrics import accuracy_score, confusion_matrix, mean_squared_error\n",
    "from sklearn.linear_model import Ridge\n",
    "from sklearn.preprocessing import OneHotEncoder\n",
    "from scipy.sparse import hstack\n",
    "from sklearn.preprocessing import StandardScaler\n",
    "import scipy\n",
    "from textblob import TextBlob\n",
    "import re\n",
    "import nltk\n",
    "from nltk.sentiment.vader import SentimentIntensityAnalyzer"
   ]
  },
  {
   "cell_type": "code",
   "execution_count": 2,
   "metadata": {},
   "outputs": [
    {
     "name": "stdout",
     "output_type": "stream",
     "text": [
      "train.csv shape is  (139753, 9)\n",
      "test.csv shape is  (17470, 2)\n"
     ]
    }
   ],
   "source": [
    "trainingSet = pd.read_csv(\"./data/train.csv\")\n",
    "testingSet = pd.read_csv(\"./data/test.csv\")\n",
    "\n",
    "print(\"train.csv shape is \", trainingSet.shape)\n",
    "print(\"test.csv shape is \", testingSet.shape)"
   ]
  },
  {
   "cell_type": "markdown",
   "metadata": {},
   "source": [
    "## Feature Extraction"
   ]
  },
  {
   "cell_type": "code",
   "execution_count": 6,
   "metadata": {},
   "outputs": [],
   "source": [
    "def process(df):\n",
    "    # This is where you can do all your processing\n",
    "    \n",
    "    df['HelpfulnessRatio'] = np.where(df['HelpfulnessDenominator'] > 0,\n",
    "                             df['HelpfulnessNumerator'] / df['HelpfulnessDenominator'], -1)\n",
    "    \n",
    "    df['NotHelpful'] = df['HelpfulnessDenominator'] - df['HelpfulnessNumerator']\n",
    "    \n",
    "    df['Time'] = pd.to_datetime(df['Time'], unit='s')\n",
    "    df['Year'] = df['Time'].dt.year\n",
    "    df['Month'] = df['Time'].dt.month\n",
    "    df['Day'] = df['Time'].dt.day\n",
    "    df['DayOfWeek'] = df['Time'].dt.dayofweek\n",
    "    \n",
    "    df['Text'].fillna('', inplace=True)\n",
    "    df['Summary'].fillna('', inplace=True)\n",
    "    df[\"Review\"] = df[\"Summary\"] + \" \" + df[\"Text\"]\n",
    "    df['Review'].fillna('', inplace=True)\n",
    "    df['ReviewLength'] = df.apply(lambda row : len(row['Review'].split()) if type(row['Review']) == str else 0, axis = 1)\n",
    "    \n",
    "    df['ReviewPolarity'] = df['Review'].apply(lambda text: TextBlob(text).sentiment.polarity)\n",
    "    df['ReviewSubjectivity'] = df['Review'].apply(lambda text: TextBlob(text).sentiment.subjectivity)\n",
    "    \n",
    "    df['NumExclamation'] = df['Review'].str.count('!')\n",
    "    df['NumCaps'] = df['Review'].str.findall(r'[A-Z]').str.len()\n",
    "    df['CapsRatio'] = df['NumCaps'] / df['ReviewLength']\n",
    "    df['ExclamationRatio'] = df['NumExclamation'] / df['ReviewLength']\n",
    "     \n",
    "    good_words_full = ['great', 'like', 'good', 'love', 'best', 'really', 'enjoyed', 'fantastic', 'amazing', 'excellent', 'wonderful']\n",
    "    df['GoodWordsRatio'] = df['Review'].apply(lambda review: sum(review.lower().count(word) for word in good_words_full) / len(review.split()) if len(review.split()) > 0 else 0)\n",
    "    \n",
    "    bad_words_full = ['even', 'bad', 'worst', 'awful', 'terrible', 'horrible', 'disappointing', 'disappointed', 'poor', 'hate', 'dont', \"don't\"]\n",
    "    df['BadWordsRatio'] = df['Review'].apply(lambda review: sum(review.lower().count(word) for word in bad_words_full) / len(review.split()) if len(review.split()) > 0 else 0)\n",
    "    \n",
    "    \n",
    "    def clean_and_split_text(text):\n",
    "        # Remove any punctuation and numbers\n",
    "        text = re.sub(r'[^\\w\\s]', '', text)\n",
    "        text = re.sub(r'\\d+', '', text)\n",
    "        # Convert text to lowercase and split into words\n",
    "        words = text.lower().split()\n",
    "        return words\n",
    "\n",
    "    bad_words_set = ['even', 'bad', 'worst', 'awful', 'terrible', 'horrible', 'disappointing', 'disappointed', 'poor', 'hate', 'dont', \"don't\"]\n",
    "    good_words_set = ['great', 'like', 'good', 'love', 'best', 'really', 'enjoyed', 'fantastic', 'amazing', 'excellent', 'wonderful']\n",
    "    \n",
    "    df['BadWordsNum'] = df['Review'].apply(\n",
    "        lambda review: sum(1 for word in clean_and_split_text(review) if word in bad_words_set)\n",
    "    )\n",
    "\n",
    "    df['GoodWordsNum'] = df['Review'].apply(\n",
    "        lambda review: sum(1 for word in clean_and_split_text(review) if word in good_words_set)\n",
    "    )\n",
    "    \n",
    "    total_word_count = df['ReviewLength'].sum()\n",
    "    total_negative_word_count = sum(df['BadWordsNum'])\n",
    "    average_negative_word_usage = total_negative_word_count / total_word_count\n",
    "    df['NegativeWordUsageDeviation'] = (\n",
    "        df['BadWordsNum'] / df['ReviewLength']\n",
    "    ) - average_negative_word_usage\n",
    "    \n",
    "    nltk.download('vader_lexicon')\n",
    "    sid = SentimentIntensityAnalyzer()\n",
    "    df['PositiveScore'] = df['Review'].apply(lambda x: sid.polarity_scores(x)['pos'])\n",
    "    df['NegativeScore'] = df['Review'].apply(lambda x: sid.polarity_scores(x)['neg'])\n",
    "    df['NeutralScore'] = df['Review'].apply(lambda x: sid.polarity_scores(x)['neu'])\n",
    "    df['CompoundScore'] = df['Review'].apply(lambda x: sid.polarity_scores(x)['compound'])\n",
    "    \n",
    "    \n",
    "    df = df.drop(columns=['Summary', 'Text', 'DayOfWeek', 'Day', 'Time'])\n",
    "    correlations = df.drop(columns=['Review', 'ProductId', 'UserId']).corr()['Score'].sort_values(ascending=False)\n",
    "    print(correlations)\n",
    "    \n",
    "    return df\n",
    "\n"
   ]
  },
  {
   "cell_type": "code",
   "execution_count": 7,
   "metadata": {},
   "outputs": [],
   "source": [
    "# Load the dataset\n",
    "trainingSet = pd.read_csv(\"./data/train.csv\")"
   ]
  },
  {
   "cell_type": "code",
   "execution_count": 8,
   "metadata": {},
   "outputs": [
    {
     "name": "stderr",
     "output_type": "stream",
     "text": [
      "[nltk_data] Downloading package vader_lexicon to\n",
      "[nltk_data]     /Users/doruk/nltk_data...\n",
      "[nltk_data]   Package vader_lexicon is already up-to-date!\n"
     ]
    },
    {
     "name": "stdout",
     "output_type": "stream",
     "text": [
      "Score                         1.000000\n",
      "ReviewPolarity                0.466230\n",
      "CompoundScore                 0.397847\n",
      "PositiveScore                 0.354221\n",
      "GoodWordsRatio                0.227267\n",
      "ReviewSubjectivity            0.094793\n",
      "Year                          0.088850\n",
      "ExclamationRatio              0.084457\n",
      "NumExclamation                0.047487\n",
      "CapsRatio                     0.041387\n",
      "GoodWordsNum                  0.041023\n",
      "Month                        -0.009580\n",
      "HelpfulnessNumerator         -0.011531\n",
      "NumCaps                      -0.025855\n",
      "Id                           -0.051049\n",
      "ReviewLength                 -0.078221\n",
      "HelpfulnessDenominator       -0.092002\n",
      "HelpfulnessRatio             -0.109879\n",
      "NeutralScore                 -0.138258\n",
      "BadWordsNum                  -0.272797\n",
      "NegativeWordUsageDeviation   -0.283034\n",
      "NotHelpful                   -0.288221\n",
      "BadWordsRatio                -0.290445\n",
      "NegativeScore                -0.402475\n",
      "Name: Score, dtype: float64\n"
     ]
    }
   ],
   "source": [
    "# Process the DataFrame\n",
    "train_processed = process(trainingSet)"
   ]
  },
  {
   "cell_type": "code",
   "execution_count": 24,
   "metadata": {},
   "outputs": [],
   "source": [
    "train_processed = train_processed.drop(columns=['Month'])"
   ]
  },
  {
   "cell_type": "code",
   "execution_count": 25,
   "metadata": {},
   "outputs": [],
   "source": [
    "# Load test set\n",
    "submissionSet = pd.read_csv(\"./data/test.csv\")\n",
    "\n",
    "# Merge on Id so that the test set can have feature columns as well\n",
    "testX= pd.merge(train_processed, submissionSet, left_on='Id', right_on='Id')\n",
    "testX = testX.drop(columns=['Score_x'])\n",
    "testX = testX.rename(columns={'Score_y': 'Score'})\n",
    "\n",
    "# The training set is where the score is not null\n",
    "trainX =  train_processed[train_processed['Score'].notnull()]\n",
    "trainX = trainX.dropna()\n",
    "\n",
    "# Save the datasets with the new features for easy access later\n",
    "testX.to_csv(\"./data/X_test.csv\", index=False)\n",
    "trainX.to_csv(\"./data/X_train.csv\", index=False)"
   ]
  },
  {
   "cell_type": "markdown",
   "metadata": {},
   "source": [
    "## Creating your model"
   ]
  },
  {
   "cell_type": "code",
   "execution_count": 26,
   "metadata": {},
   "outputs": [],
   "source": [
    "# Load training set with new features into DataFrame\n",
    "X_train = pd.read_csv(\"./data/X_train.csv\")"
   ]
  },
  {
   "cell_type": "code",
   "execution_count": 27,
   "metadata": {},
   "outputs": [],
   "source": [
    "# Split training set into training and testing set\n",
    "X_train, X_test, Y_train, Y_test = train_test_split(\n",
    "        X_train.drop(['Score'], axis=1),\n",
    "        X_train['Score'],\n",
    "        test_size=1/4.0,\n",
    "        random_state=42\n",
    "    )\n",
    "\n",
    "# This is where you can do more feature selection\n",
    "X_train = X_train.drop(columns=['Id'])\n",
    "X_test = X_test.drop(columns=['Id'])"
   ]
  },
  {
   "cell_type": "code",
   "execution_count": 28,
   "metadata": {},
   "outputs": [],
   "source": [
    "# Fit the StandardScaler on the numerical columns of the training data\n",
    "numerical_columns = X_train.select_dtypes(include=['int64', 'float64']).columns\n",
    "scaler = StandardScaler()\n",
    "scaler.fit(X_train[numerical_columns])\n",
    "# Transform the training data\n",
    "X_train[numerical_columns] = scaler.transform(X_train[numerical_columns])\n",
    "# Transform the test data with the fitted scaler\n",
    "X_test[numerical_columns] = scaler.transform(X_test[numerical_columns])\n"
   ]
  },
  {
   "cell_type": "code",
   "execution_count": 29,
   "metadata": {},
   "outputs": [],
   "source": [
    "tfidf_transformer = TfidfVectorizer()\n",
    "X_train_tfidf = tfidf_transformer.fit_transform(X_train['Review'])\n",
    "# Transform the test data with the fitted transformer\n",
    "X_test_tfidf = tfidf_transformer.transform(X_test['Review'])"
   ]
  },
  {
   "cell_type": "code",
   "execution_count": 30,
   "metadata": {
    "scrolled": true
   },
   "outputs": [
    {
     "name": "stderr",
     "output_type": "stream",
     "text": [
      "/Library/Frameworks/Python.framework/Versions/3.10/lib/python3.10/site-packages/sklearn/preprocessing/_encoders.py:972: FutureWarning: `sparse` was renamed to `sparse_output` in version 1.2 and will be removed in 1.4. `sparse_output` is ignored unless you leave `sparse` to its default value.\n",
      "  warnings.warn(\n"
     ]
    }
   ],
   "source": [
    "# Fit OneHotEncoder on the training data\n",
    "OHE = OneHotEncoder(sparse=True, handle_unknown='ignore')\n",
    "ID_fitter = OHE.fit(X_train[['ProductId', 'UserId']])\n",
    "# Transform both training and test data with the fitted encoder\n",
    "Train_IDs = ID_fitter.transform(X_train[['ProductId', 'UserId']])\n",
    "Test_IDs = ID_fitter.transform(X_test[['ProductId', 'UserId']])"
   ]
  },
  {
   "cell_type": "code",
   "execution_count": 31,
   "metadata": {},
   "outputs": [],
   "source": [
    "X_train = X_train.drop(['ProductId','UserId'], axis=1)\n",
    "X_test = X_test.drop(['ProductId','UserId'], axis=1)\n",
    "\n",
    "X_train = X_train.drop(columns=['Review'])\n",
    "X_test = X_test.drop(columns=['Review'])"
   ]
  },
  {
   "cell_type": "code",
   "execution_count": 46,
   "metadata": {},
   "outputs": [],
   "source": [
    "X_train_final = hstack([X_train, Train_IDs, X_train_tfidf])"
   ]
  },
  {
   "cell_type": "code",
   "execution_count": 47,
   "metadata": {},
   "outputs": [],
   "source": [
    "X_test_final = hstack([X_test, Test_IDs, X_test_tfidf])"
   ]
  },
  {
   "cell_type": "code",
   "execution_count": 52,
   "metadata": {
    "scrolled": false
   },
   "outputs": [
    {
     "name": "stdout",
     "output_type": "stream",
     "text": [
      "Fitting 5 folds for each of 4 candidates, totalling 20 fits\n",
      "Best alpha parameter: 4.0\n"
     ]
    }
   ],
   "source": [
    "# Define the parameter grid\n",
    "param_grid = {\n",
    "    'alpha': [1.0, 4.0, 5.0, 10.0]  # You can expand this grid as needed\n",
    "}\n",
    "\n",
    "# Initialize the Ridge model\n",
    "ridge = Ridge()\n",
    "\n",
    "# Create the GridSearchCV object\n",
    "grid_search = GridSearchCV(estimator=ridge, param_grid=param_grid, scoring='neg_root_mean_squared_error', cv=5, verbose=1)\n",
    "\n",
    "# Perform the grid search\n",
    "grid_search.fit(X_train_final, Y_train)\n",
    "\n",
    "# Retrieve the best parameters\n",
    "best_alpha = grid_search.best_params_['alpha']\n",
    "print(f\"Best alpha parameter: {best_alpha}\")\n",
    "\n",
    "# Fit the Ridge model using the best alpha parameter\n",
    "ridge_optimized = Ridge(alpha=best_alpha).fit(X_train_final, Y_train)\n",
    "\n",
    "\n",
    "Y_test_predictions = ridge_optimized.predict(X_test_final).clip(1, 5)"
   ]
  },
  {
   "cell_type": "code",
   "execution_count": 53,
   "metadata": {},
   "outputs": [
    {
     "name": "stdout",
     "output_type": "stream",
     "text": [
      "RMSE on testing set =  0.5960250612885891\n"
     ]
    }
   ],
   "source": [
    "print(\"RMSE on testing set = \", mean_squared_error(Y_test, Y_test_predictions))"
   ]
  },
  {
   "cell_type": "code",
   "execution_count": 54,
   "metadata": {},
   "outputs": [
    {
     "name": "stdout",
     "output_type": "stream",
     "text": [
      "Accuracy on testing set = 0.5372411762781721\n"
     ]
    }
   ],
   "source": [
    "print(\"Accuracy on testing set =\", accuracy_score(Y_test, np.round(Y_test_predictions)))"
   ]
  },
  {
   "cell_type": "code",
   "execution_count": 55,
   "metadata": {},
   "outputs": [
    {
     "data": {
      "image/png": "[encoded data removed]",
      "text/plain": [
       "<Figure size 640x480 with 2 Axes>"
      ]
     },
     "metadata": {},
     "output_type": "display_data"
    }
   ],
   "source": [
    "cm = confusion_matrix(Y_test, np.round(Y_test_predictions), normalize='true')\n",
    "sns.heatmap(cm, annot=True, fmt='.2f', cmap='Blues')\n",
    "plt.title('Confusion matrix of the classifier')\n",
    "plt.xlabel('Predicted')\n",
    "plt.ylabel('True')\n",
    "plt.show()"
   ]
  },
  {
   "cell_type": "markdown",
   "metadata": {},
   "source": [
    "## Create the Kaggle submission"
   ]
  },
  {
   "cell_type": "code",
   "execution_count": 56,
   "metadata": {},
   "outputs": [
    {
     "data": {
      "text/plain": [
       "Index(['Id', 'ProductId', 'UserId', 'HelpfulnessNumerator',\n",
       "       'HelpfulnessDenominator', 'HelpfulnessRatio', 'NotHelpful', 'Year',\n",
       "       'Review', 'ReviewLength', 'ReviewPolarity', 'ReviewSubjectivity',\n",
       "       'NumExclamation', 'NumCaps', 'CapsRatio', 'ExclamationRatio',\n",
       "       'GoodWordsRatio', 'BadWordsRatio', 'BadWordsNum', 'GoodWordsNum',\n",
       "       'NegativeWordUsageDeviation', 'PositiveScore', 'NegativeScore',\n",
       "       'NeutralScore', 'CompoundScore', 'Score'],\n",
       "      dtype='object')"
      ]
     },
     "execution_count": 56,
     "metadata": {},
     "output_type": "execute_result"
    }
   ],
   "source": [
    "# Load the Kaggle test set\n",
    "X_submission = pd.read_csv(\"./data/X_test.csv\")\n",
    "X_submission.columns"
   ]
  },
  {
   "cell_type": "code",
   "execution_count": 57,
   "metadata": {},
   "outputs": [],
   "source": [
    "# Drop 'Id' and 'Score' for scaling numerical features\n",
    "X_submission_processed = X_submission.drop(columns=['Id', 'Score'])\n",
    "\n",
    "# Separate out the numerical columns\n",
    "numerical_columns_submission = X_submission_processed.select_dtypes(include=['int64', 'float64']).columns\n",
    "\n",
    "# Scale the numerical features using the already fitted scaler\n",
    "X_submission_processed[numerical_columns_submission] = scaler.transform(X_submission_processed[numerical_columns_submission])\n",
    "\n",
    "# Transform the test reviews using the already fitted TF-IDF vectorizer\n",
    "X_submission_tfidf = tfidf_transformer.transform(X_submission_processed['Review'])\n",
    "\n",
    "# Transform 'ProductId' and 'UserId' using the already fitted OneHotEncoder\n",
    "X_submission_OHE = ID_fitter.transform(X_submission_processed[['ProductId', 'UserId']])\n",
    "\n",
    "# Drop 'ProductId', 'UserId', and 'Review' columns before stacking\n",
    "X_submission_processed = X_submission_processed.drop(columns=['ProductId', 'UserId', 'Review'])\n",
    "\n",
    "# Stack all features together: numerical, OneHotEncoded, and TF-IDF vectorized\n",
    "X_submission_final = hstack([X_submission_processed, X_submission_OHE, X_submission_tfidf])\n",
    "\n",
    "# Make predictions using the optimized Ridge model\n",
    "X_submission['Score'] = ridge_optimized.predict(X_submission_final).clip(1, 5)\n",
    "\n",
    "submission = X_submission[['Id', 'Score']]\n",
    "# Save the submission file\n",
    "submission.to_csv(\"./data/submission.csv\", index=False)"
   ]
  },
  {
   "cell_type": "markdown",
   "metadata": {},
   "source": [
    "#### Now you can upload the `submission.csv` to kaggle"
   ]
  }
 ],
 "metadata": {
  "kernelspec": {
   "display_name": "Python 3 (ipykernel)",
   "language": "python",
   "name": "python3"
  },
  "language_info": {
   "codemirror_mode": {
    "name": "ipython",
    "version": 3
   },
   "file_extension": ".py",
   "mimetype": "text/x-python",
   "name": "python",
   "nbconvert_exporter": "python",
   "pygments_lexer": "ipython3",
   "version": "3.10.4"
  },
  "vscode": {
   "interpreter": {
    "hash": "7697e155108679fa2d22949e509aeff305faa212a8830735ae3989f6ecc6d1af"
   }
  }
 },
 "nbformat": 4,
 "nbformat_minor": 2
}
